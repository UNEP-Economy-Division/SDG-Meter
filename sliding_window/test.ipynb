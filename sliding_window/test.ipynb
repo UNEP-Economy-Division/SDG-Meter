{
 "cells": [
  {
   "cell_type": "code",
   "execution_count": 1,
   "metadata": {},
   "outputs": [],
   "source": [
    "%load_ext autoreload\n",
    "%autoreload 2\n",
    "%matplotlib inline"
   ]
  },
  {
   "cell_type": "code",
   "execution_count": 6,
   "metadata": {},
   "outputs": [],
   "source": [
    "import pandas as pd\n",
    "import numpy as np\n",
    "\n",
    "from lib.config import VISIBLE_GPUS\n",
    "\n",
    "import os\n",
    "os.environ[\"CUDA_VISIBLE_DEVICES\"]= VISIBLE_GPUS\n",
    "import torch\n",
    "\n",
    "from sklearn.model_selection import train_test_split\n",
    "from lib.main import BERTClassificationModelWithPooling"
   ]
  },
  {
   "cell_type": "code",
   "execution_count": 18,
   "metadata": {},
   "outputs": [],
   "source": [
    "df = pd.read_csv('data/data_sample.csv')\n",
    "\n",
    "label = list(df.columns)\n",
    "label.remove('text')\n",
    "\n",
    "X = df['text']\n",
    "Y = df[label]\n",
    "\n",
    "# Train test split\n",
    "X_train, X_test, y_train, y_test = train_test_split(X, Y, test_size=0.2, random_state=42)"
   ]
  },
  {
   "cell_type": "code",
   "execution_count": 19,
   "metadata": {},
   "outputs": [
    {
     "name": "stderr",
     "output_type": "stream",
     "text": [
      "Downloading: 100%|██████████| 226k/226k [00:00<00:00, 256kB/s] \n",
      "Downloading: 100%|██████████| 28.0/28.0 [00:00<00:00, 13.6kB/s]\n",
      "Downloading: 100%|██████████| 455k/455k [00:02<00:00, 224kB/s] \n",
      "Downloading: 100%|██████████| 570/570 [00:00<00:00, 231kB/s]\n",
      "Downloading:  16%|█▌        | 67.6M/420M [14:53<1:46:11, 58.0kB/s]  "
     ]
    }
   ],
   "source": [
    "# Loading model\n",
    "model = BERTClassificationModelWithPooling()"
   ]
  },
  {
   "cell_type": "code",
   "execution_count": null,
   "metadata": {},
   "outputs": [],
   "source": [
    "results = model.train_and_evaluate(X_train, X_test, y_train, y_test, epochs = 5)"
   ]
  },
  {
   "cell_type": "code",
   "execution_count": null,
   "metadata": {},
   "outputs": [],
   "source": [
    "import matplotlib.pyplot as plt\n",
    "\n",
    "def plot_learning_curve(result):\n",
    "    cmap = plt.get_cmap(\"tab10\")\n",
    "    fig,ax = plt.subplots(figsize = (10,10))\n",
    "\n",
    "    for i, (key,value) in enumerate(result.items()):\n",
    "        ax.plot(value, '-',label=key,color=cmap(i))\n",
    "        ax.legend()\n",
    "\n",
    "plot_learning_curve(results)"
   ]
  }
 ],
 "metadata": {
  "interpreter": {
   "hash": "aee8b7b246df8f9039afb4144a1f6fd8d2ca17a180786b69acc140d282b71a49"
  },
  "kernelspec": {
   "display_name": "Python 3.9.10 64-bit",
   "language": "python",
   "name": "python3"
  },
  "language_info": {
   "codemirror_mode": {
    "name": "ipython",
    "version": 3
   },
   "file_extension": ".py",
   "mimetype": "text/x-python",
   "name": "python",
   "nbconvert_exporter": "python",
   "pygments_lexer": "ipython3",
   "version": "3.9.10"
  },
  "orig_nbformat": 4
 },
 "nbformat": 4,
 "nbformat_minor": 2
}
