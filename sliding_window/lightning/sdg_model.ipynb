{
 "cells": [
  {
   "cell_type": "code",
   "execution_count": null,
   "metadata": {},
   "outputs": [],
   "source": [
    "from random import random\n",
    "import pandas as pd\n",
    "from sklearn.model_selection import train_test_split\n",
    "from module import SDGDataModule\n",
    "from transformers import BertTokenizer\n",
    "from pipeline import Pipeline\n",
    "from model import SDGTagger\n",
    "\n",
    "from config import DEFAULT_PARAMS_BERT_WITH_POOLING\n",
    "\n",
    "csv_filename = '../data/data_sample.csv'\n",
    "\n",
    "def sdg_model(csv_filename, train_size=0.8, random_size=42):\n",
    "    df = pd.read_csv(csv_filename)[:100]\n",
    "    data_module = SDGDataModule(df)\n",
    "\n",
    "    N_EPOCHS = DEFAULT_PARAMS_BERT_WITH_POOLING['num_epochs']\n",
    "    BATCH_SIZE = DEFAULT_PARAMS_BERT_WITH_POOLING['batch_size']\n",
    "\n",
    "    steps_per_epoch=int(len(df) * 0.8) // BATCH_SIZE\n",
    "    total_training_steps = steps_per_epoch * N_EPOCHS\n",
    "    warmup_steps = total_training_steps // 5\n",
    "\n",
    "    model = SDGTagger(\n",
    "                n_warmup_steps=warmup_steps,\n",
    "                n_training_steps=total_training_steps \n",
    "            )\n",
    "    ppln = Pipeline()\n",
    "    ppln.train(model, data_module)\n",
    "\n",
    "    \n",
    "sdg_model(csv_filename)"
   ]
  }
 ],
 "metadata": {
  "interpreter": {
   "hash": "2e18cc33c6a4d67c3bb70b2ae33c77147cdf8f7a5b253b8b1118270033c2a0db"
  },
  "kernelspec": {
   "display_name": "Python 3.7.6 64-bit",
   "language": "python",
   "name": "python3"
  },
  "language_info": {
   "codemirror_mode": {
    "name": "ipython",
    "version": 3
   },
   "file_extension": ".py",
   "mimetype": "text/x-python",
   "name": "python",
   "nbconvert_exporter": "python",
   "pygments_lexer": "ipython3",
   "version": "3.7.6"
  },
  "orig_nbformat": 4
 },
 "nbformat": 4,
 "nbformat_minor": 2
}
