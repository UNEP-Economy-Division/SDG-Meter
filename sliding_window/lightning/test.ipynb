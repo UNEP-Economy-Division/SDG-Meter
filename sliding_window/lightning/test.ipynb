{
 "cells": [
  {
   "cell_type": "code",
   "execution_count": 1,
   "metadata": {},
   "outputs": [],
   "source": [
    "%load_ext autoreload\n",
    "%autoreload 2\n",
    "%matplotlib inline"
   ]
  },
  {
   "cell_type": "code",
   "execution_count": 2,
   "metadata": {},
   "outputs": [
    {
     "name": "stderr",
     "output_type": "stream",
     "text": [
      "GPU available: True, used: True\n",
      "TPU available: False, using: 0 TPU cores\n",
      "IPU available: False, using: 0 IPUs\n",
      "LOCAL_RANK: 0 - CUDA_VISIBLE_DEVICES: [0]\n",
      "\n",
      "  | Name            | Type                             | Params\n",
      "---------------------------------------------------------------------\n",
      "0 | bert_classifier | RobertaForSequenceClassification | 82.7 M\n",
      "1 | criterion       | BCEWithLogitsLoss                | 0     \n",
      "---------------------------------------------------------------------\n",
      "82.7 M    Trainable params\n",
      "0         Non-trainable params\n",
      "82.7 M    Total params\n",
      "330.888   Total estimated model params size (MB)\n"
     ]
    },
    {
     "name": "stdout",
     "output_type": "stream",
     "text": [
      "Validation sanity check:   0%|          | 0/2 [00:00<?, ?it/s]"
     ]
    }
   ],
   "source": [
    "import pandas as pd\n",
    "csv_filename = '../data/data_sample.csv'\n",
    "df = pd.read_csv(csv_filename)\n",
    "\n",
    "from module import SDGDataModule\n",
    "data_module = SDGDataModule(df)\n",
    "\n",
    "from config import DEFAULT_PARAMS_BERT_WITH_POOLING\n",
    "from model import SDGTagger\n",
    "from pipeline import Pipeline\n",
    "\n",
    "N_EPOCHS = DEFAULT_PARAMS_BERT_WITH_POOLING['num_epochs']\n",
    "BATCH_SIZE = DEFAULT_PARAMS_BERT_WITH_POOLING['batch_size']\n",
    "\n",
    "steps_per_epoch= int(len(df) * 0.8) // BATCH_SIZE\n",
    "total_training_steps = steps_per_epoch * N_EPOCHS\n",
    "warmup_steps = total_training_steps // 5\n",
    "\n",
    "model = SDGTagger(n_warmup_steps=warmup_steps,\n",
    "                n_training_steps=total_training_steps )\n",
    "ppln = Pipeline(data_module)\n",
    "ppln.train(model)"
   ]
  },
  {
   "cell_type": "code",
   "execution_count": null,
   "metadata": {},
   "outputs": [],
   "source": [
    "output = ppln.trainer.test(model, data_module)\n",
    "output"
   ]
  }
 ],
 "metadata": {
  "interpreter": {
   "hash": "aee8b7b246df8f9039afb4144a1f6fd8d2ca17a180786b69acc140d282b71a49"
  },
  "kernelspec": {
   "display_name": "Python 3.9.10 64-bit",
   "language": "python",
   "name": "python3"
  },
  "language_info": {
   "codemirror_mode": {
    "name": "ipython",
    "version": 3
   },
   "file_extension": ".py",
   "mimetype": "text/x-python",
   "name": "python",
   "nbconvert_exporter": "python",
   "pygments_lexer": "ipython3",
   "version": "3.7.6"
  },
  "orig_nbformat": 4
 },
 "nbformat": 4,
 "nbformat_minor": 2
}
